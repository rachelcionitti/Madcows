{
 "cells": [
  {
   "cell_type": "code",
   "execution_count": null,
   "metadata": {},
   "outputs": [],
   "source": [
    "from astropy.io import fits \n",
    "import matplotlib.pyplot as plt\n",
    "import numpy as np \n",
    "from scipy.optimize import minimize, rosen, rosen_der\n",
    "from scipy import interpolate\n",
    "import scipy\n",
    "import os \n",
    "from scipy.optimize import curve_fit\n",
    "from scipy.integrate import simps\n",
    "import math\n",
    "from astropy.cosmology import WMAP9 as cosmo\n",
    "from astroquery.mast import Observations"
   ]
  },
  {
   "cell_type": "code",
   "execution_count": null,
   "metadata": {},
   "outputs": [],
   "source": [
    "#https://mast.stsci.edu/api/v0/_c_a_o_mfields.html\n",
    "#https://astroquery.readthedocs.io/en/latest/mast/mast.html#id1\n",
    "#https://mast.stsci.edu/portal/Mashup/Clients/Mast/Portal.html\n",
    "#https://outerspace.stsci.edu/display/MASTDOCS/Search+a+List+of+Targets\n",
    "#https://www.stsci.edu/hst/instrumentation/wfc3/performance/throughputs"
   ]
  },
  {
   "cell_type": "code",
   "execution_count": null,
   "metadata": {},
   "outputs": [],
   "source": [
    "#madcows1 = fits.open(\"C:/Users/19133/Documents/cows_official.fits\")\n",
    "madcows = fits.open(\"C:/Users/19133/Documents/MC2.fits\")"
   ]
  },
  {
   "cell_type": "code",
   "execution_count": null,
   "metadata": {},
   "outputs": [],
   "source": [
    "len(madcows[1].data['RA'])"
   ]
  },
  {
   "cell_type": "code",
   "execution_count": null,
   "metadata": {},
   "outputs": [],
   "source": [
    "obsids_for_data = [] \n",
    "madcow_sources = [] \n",
    "\n",
    "failed = [] \n",
    "\n",
    "for x in range(10):\n",
    "    try: \n",
    "        obs_table = Observations.query_object(str(madcows[1].data['RA'][x]) + \" \" + str(madcows[1].data['DEC'][x]),radius=\"0.03 deg\")\n",
    "        inds = np.where(obs_table['instrument_name'] == \"WFC3/IR\")[0]\n",
    "        if len(inds) > 0:\n",
    "            for y in obs_table[inds]['obsid']:\n",
    "                obsids_for_data.append(y)\n",
    "                madcow_sources.append(x)\n",
    "                \n",
    "                data_products = Observations.get_product_list(y)\n",
    "                manifest = Observations.download_products(data_products, productType=\"SCIENCE\")\n",
    "        else:\n",
    "            True \n",
    "    except: \n",
    "        failed.append(x)"
   ]
  },
  {
   "cell_type": "code",
   "execution_count": null,
   "metadata": {},
   "outputs": [],
   "source": [
    "#look at x and continue from there \n",
    "#make sure these are in degrees \n",
    "#just retry one it failed on? \n",
    "#glob images and choose good ones "
   ]
  },
  {
   "cell_type": "code",
   "execution_count": null,
   "metadata": {},
   "outputs": [],
   "source": [
    "import csv\n",
    "\n",
    "with open('C:/Users/19133/Documents/MAST_matching_targets_2.csv', 'w', newline='') as csvfile:\n",
    "    fieldnames = ['obsid','MADCOW_id']\n",
    "    writer = csv.DictWriter(csvfile, fieldnames=fieldnames)\n",
    "\n",
    "    writer.writeheader()\n",
    "    for x in range(len(obsids_for_data)):\n",
    "        writer.writerow({'obsid':obsids_for_data[x],'MADCOW_id':madcow_sources[x]})"
   ]
  },
  {
   "cell_type": "code",
   "execution_count": null,
   "metadata": {},
   "outputs": [],
   "source": [
    "#used this in online interface\n",
    "import csv\n",
    "\n",
    "with open('C:/Users/19133/Documents/madcows_targets.csv', 'w', newline='') as csvfile:\n",
    "    fieldnames = ['RA', 'DEC']\n",
    "    writer = csv.DictWriter(csvfile, fieldnames=fieldnames)\n",
    "\n",
    "    writer.writeheader()\n",
    "    for x in range(len(madcows[1].data['RA_SGML'])):\n",
    "        writer.writerow({'RA': madcows[1].data['RA'][x], 'DEC': madcows[1].data['DEC'][x]})"
   ]
  },
  {
   "cell_type": "code",
   "execution_count": null,
   "metadata": {},
   "outputs": [],
   "source": [
    "from astropy.table import Table\n",
    "matches = Table.read(\"MAST_matching_targets.csv\")\n",
    "obsids = matches['obsid']\n",
    "\n",
    "for x in [0,1,2]:\n",
    "    data_products = Observations.get_product_list(str(obsids[x]))\n",
    "    #print(data_products['dataURI'])\n",
    "    manifest = Observations.download_products(data_products, productType=\"SCIENCE\")"
   ]
  }
 ],
 "metadata": {
  "kernelspec": {
   "display_name": "Python 3",
   "language": "python",
   "name": "python3"
  },
  "language_info": {
   "codemirror_mode": {
    "name": "ipython",
    "version": 3
   },
   "file_extension": ".py",
   "mimetype": "text/x-python",
   "name": "python",
   "nbconvert_exporter": "python",
   "pygments_lexer": "ipython3",
   "version": "3.7.6"
  }
 },
 "nbformat": 4,
 "nbformat_minor": 4
}
