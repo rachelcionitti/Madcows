{
 "cells": [
  {
   "cell_type": "code",
   "execution_count": 1,
   "metadata": {},
   "outputs": [],
   "source": [
    "from astropy.io import fits \n",
    "import matplotlib.pyplot as plt\n",
    "import numpy as np \n",
    "from scipy.optimize import minimize, rosen, rosen_der\n",
    "from scipy import interpolate\n",
    "import scipy\n",
    "import os \n",
    "from scipy.optimize import curve_fit\n",
    "from scipy.integrate import simps\n",
    "import math\n",
    "from astropy.cosmology import WMAP9 as cosmo\n",
    "from astroquery.mast import Observations\n",
    "import csv\n",
    "import time"
   ]
  },
  {
   "cell_type": "code",
   "execution_count": null,
   "metadata": {},
   "outputs": [],
   "source": [
    "#https://mast.stsci.edu/api/v0/_c_a_o_mfields.html\n",
    "#https://astroquery.readthedocs.io/en/latest/mast/mast.html#id1\n",
    "#https://mast.stsci.edu/portal/Mashup/Clients/Mast/Portal.html\n",
    "#https://outerspace.stsci.edu/display/MASTDOCS/Search+a+List+of+Targets\n",
    "#https://www.stsci.edu/hst/instrumentation/wfc3/performance/throughputs"
   ]
  },
  {
   "cell_type": "code",
   "execution_count": 2,
   "metadata": {},
   "outputs": [],
   "source": [
    "#madcows1 = fits.open(\"C:/Users/19133/Documents/cows_official.fits\")\n",
    "madcows = fits.open(\"C:/Users/19133/Documents/Research/UMKC/MC2_2.fits\")"
   ]
  },
  {
   "cell_type": "code",
   "execution_count": 3,
   "metadata": {},
   "outputs": [
    {
     "data": {
      "text/plain": [
       "332.9445360976961"
      ]
     },
     "execution_count": 3,
     "metadata": {},
     "output_type": "execute_result"
    }
   ],
   "source": [
    "madcows[1].data['RA'][0]"
   ]
  },
  {
   "cell_type": "code",
   "execution_count": 22,
   "metadata": {},
   "outputs": [],
   "source": [
    "with open('C:/Users/19133/Documents/Research/UMKC/MAST_ACS_8_14.csv', 'w', newline='') as csvfile:\n",
    "    fieldnames = ['obsids','parent_obsid','MADCOW_id','file']\n",
    "    writer = csv.DictWriter(csvfile, fieldnames=fieldnames)\n",
    "    writer.writeheader()"
   ]
  },
  {
   "cell_type": "code",
   "execution_count": 33,
   "metadata": {
    "scrolled": true
   },
   "outputs": [
    {
     "name": "stderr",
     "output_type": "stream",
     "text": [
      "WARNING: InputWarning: Coordinate string is being interpreted as an ICRS coordinate provided in degrees. [astroquery.utils.commons]\n",
      "WARNING: NoResultsWarning: Query returned no results. [astroquery.mast.discovery_portal]\n"
     ]
    },
    {
     "name": "stdout",
     "output_type": "stream",
     "text": [
      "Downloading URL https://mast.stsci.edu/api/v0.1/Download/file?uri=mast:HST/product/hst_13695_27_acs_wfc_total_jclt27_drc.fits to ./mastDownload\\HST\\hst_13695_27_acs_wfc_total_jclt27\\hst_13695_27_acs_wfc_total_jclt27_drc.fits ... [Done]\n",
      "Downloading URL https://mast.stsci.edu/api/v0.1/Download/file?uri=mast:HST/product/jclt27011_drz.fits to ./mastDownload\\HST\\jclt27010\\jclt27011_drz.fits ... [Done]\n"
     ]
    },
    {
     "name": "stderr",
     "output_type": "stream",
     "text": [
      "WARNING: InputWarning: Coordinate string is being interpreted as an ICRS coordinate provided in degrees. [astroquery.utils.commons]\n",
      "WARNING: NoResultsWarning: Query returned no results. [astroquery.mast.discovery_portal]\n"
     ]
    },
    {
     "name": "stdout",
     "output_type": "stream",
     "text": [
      "Downloading URL https://mast.stsci.edu/api/v0.1/Download/file?uri=mast:HST/product/hst_10092_0x_acs_wfc_total_j8xi0x_drc.fits to ./mastDownload\\HST\\hst_10092_0x_acs_wfc_total_j8xi0x\\hst_10092_0x_acs_wfc_total_j8xi0x_drc.fits ... [Done]\n",
      "Downloading URL https://mast.stsci.edu/api/v0.1/Download/file?uri=mast:HST/product/hst_10092_0y_acs_wfc_total_j8xi0y_drc.fits to ./mastDownload\\HST\\hst_10092_0y_acs_wfc_total_j8xi0y\\hst_10092_0y_acs_wfc_total_j8xi0y_drc.fits ... [Done]\n",
      "Downloading URL https://mast.stsci.edu/api/v0.1/Download/file?uri=mast:HST/product/hst_10092_0z_acs_wfc_total_j8xi0z_drc.fits to ./mastDownload\\HST\\hst_10092_0z_acs_wfc_total_j8xi0z\\hst_10092_0z_acs_wfc_total_j8xi0z_drc.fits ... [Done]\n",
      "Downloading URL https://mast.stsci.edu/api/v0.1/Download/file?uri=mast:HST/product/hst_10092_15_acs_wfc_total_j8xi15_drc.fits to ./mastDownload\\HST\\hst_10092_15_acs_wfc_total_j8xi15\\hst_10092_15_acs_wfc_total_j8xi15_drc.fits ... [Done]\n",
      "Downloading URL https://mast.stsci.edu/api/v0.1/Download/file?uri=mast:HST/product/hst_10092_16_acs_wfc_total_j8xi16_drc.fits to ./mastDownload\\HST\\hst_10092_16_acs_wfc_total_j8xi16\\hst_10092_16_acs_wfc_total_j8xi16_drc.fits ... [Done]\n",
      "Downloading URL https://mast.stsci.edu/api/v0.1/Download/file?uri=mast:HST/product/hst_10092_6e_acs_wfc_total_j8xi6e_drc.fits to ./mastDownload\\HST\\hst_10092_6e_acs_wfc_total_j8xi6e\\hst_10092_6e_acs_wfc_total_j8xi6e_drc.fits ... [Done]\n",
      "Downloading URL https://mast.stsci.edu/api/v0.1/Download/file?uri=mast:HST/product/hst_10092_6f_acs_wfc_total_j8xi6f_drc.fits to ./mastDownload\\HST\\hst_10092_6f_acs_wfc_total_j8xi6f\\hst_10092_6f_acs_wfc_total_j8xi6f_drc.fits ... [Done]\n",
      "Downloading URL https://mast.stsci.edu/api/v0.1/Download/file?uri=mast:HST/product/hst_10092_6g_acs_wfc_total_j8xi6g_drc.fits to ./mastDownload\\HST\\hst_10092_6g_acs_wfc_total_j8xi6g\\hst_10092_6g_acs_wfc_total_j8xi6g_drc.fits ... [Done]\n",
      "Downloading URL https://mast.stsci.edu/api/v0.1/Download/file?uri=mast:HST/product/hst_10092_6h_acs_wfc_total_j8xi6h_drc.fits to ./mastDownload\\HST\\hst_10092_6h_acs_wfc_total_j8xi6h\\hst_10092_6h_acs_wfc_total_j8xi6h_drc.fits ... [Done]\n",
      "Downloading URL https://mast.stsci.edu/api/v0.1/Download/file?uri=mast:HST/product/hst_10092_6i_acs_wfc_total_j8xi6i_drc.fits to ./mastDownload\\HST\\hst_10092_6i_acs_wfc_total_j8xi6i\\hst_10092_6i_acs_wfc_total_j8xi6i_drc.fits ... [Done]\n",
      "Downloading URL https://mast.stsci.edu/api/v0.1/Download/file?uri=mast:HST/product/hst_10092_6j_acs_wfc_total_j8xi6j_drc.fits to ./mastDownload\\HST\\hst_10092_6j_acs_wfc_total_j8xi6j\\hst_10092_6j_acs_wfc_total_j8xi6j_drc.fits ... [Done]\n",
      "Downloading URL https://mast.stsci.edu/api/v0.1/Download/file?uri=mast:HST/product/hst_10092_6k_acs_wfc_total_j8xi6k_drc.fits to ./mastDownload\\HST\\hst_10092_6k_acs_wfc_total_j8xi6k\\hst_10092_6k_acs_wfc_total_j8xi6k_drc.fits ... [Done]\n",
      "Downloading URL https://mast.stsci.edu/api/v0.1/Download/file?uri=mast:HST/product/hst_10092_6l_acs_wfc_total_j8xi6l_drc.fits to ./mastDownload\\HST\\hst_10092_6l_acs_wfc_total_j8xi6l\\hst_10092_6l_acs_wfc_total_j8xi6l_drc.fits ... [Done]\n",
      "Downloading URL https://mast.stsci.edu/api/v0.1/Download/file?uri=mast:HST/product/hst_10092_6m_acs_wfc_total_j8xi6m_drc.fits to ./mastDownload\\HST\\hst_10092_6m_acs_wfc_total_j8xi6m\\hst_10092_6m_acs_wfc_total_j8xi6m_drc.fits ... [Done]\n",
      "Downloading URL https://mast.stsci.edu/api/v0.1/Download/file?uri=mast:HST/product/hst_10092_7a_acs_wfc_total_j8xi7a_drc.fits to ./mastDownload\\HST\\hst_10092_7a_acs_wfc_total_j8xi7a\\hst_10092_7a_acs_wfc_total_j8xi7a_drc.fits ... [Done]\n",
      "Downloading URL https://mast.stsci.edu/api/v0.1/Download/file?uri=mast:HST/product/hst_10092_7b_acs_wfc_total_j8xi7b_drc.fits to ./mastDownload\\HST\\hst_10092_7b_acs_wfc_total_j8xi7b\\hst_10092_7b_acs_wfc_total_j8xi7b_drc.fits ... [Done]\n",
      "Downloading URL https://mast.stsci.edu/api/v0.1/Download/file?uri=mast:HST/product/hst_10092_7c_acs_wfc_total_j8xi7c_drc.fits to ./mastDownload\\HST\\hst_10092_7c_acs_wfc_total_j8xi7c\\hst_10092_7c_acs_wfc_total_j8xi7c_drc.fits ... [Done]\n",
      "INFO: Found cached file ./mastDownload\\HST\\hst_10092_7e_acs_wfc_total_j8xi7e\\hst_10092_7e_acs_wfc_total_j8xi7e_drc.fits with expected size 292340160. [astroquery.query]\n",
      "INFO: Found cached file ./mastDownload\\HST\\hst_10092_ce_acs_wfc_total_j8xice\\hst_10092_ce_acs_wfc_total_j8xice_drc.fits with expected size 300934080. [astroquery.query]\n",
      "Downloading URL https://mast.stsci.edu/api/v0.1/Download/file?uri=mast:HST/product/hst_10092_cf_acs_wfc_total_j8xicf_drc.fits to ./mastDownload\\HST\\hst_10092_cf_acs_wfc_total_j8xicf\\hst_10092_cf_acs_wfc_total_j8xicf_drc.fits ... [Done]\n",
      "Downloading URL https://mast.stsci.edu/api/v0.1/Download/file?uri=mast:HST/product/hst_12328_39_acs_wfc_total_jbhm39_drc.fits to ./mastDownload\\HST\\hst_12328_39_acs_wfc_total_jbhm39\\hst_12328_39_acs_wfc_total_jbhm39_drc.fits ... [Done]\n",
      "Downloading URL https://mast.stsci.edu/api/v0.1/Download/file?uri=mast:HST/product/hst_12440_88_acs_wfc_total_jboa88_drc.fits to ./mastDownload\\HST\\hst_12440_88_acs_wfc_total_jboa88\\hst_12440_88_acs_wfc_total_jboa88_drc.fits ... [Done]\n",
      "Downloading URL https://mast.stsci.edu/api/v0.1/Download/file?uri=mast:HST/product/hst_13294_01_acs_wfc_total_jccb01_drc.fits to ./mastDownload\\HST\\hst_13294_01_acs_wfc_total_jccb01\\hst_13294_01_acs_wfc_total_jccb01_drc.fits ... [Done]\n",
      "Downloading URL https://mast.stsci.edu/api/v0.1/Download/file?uri=mast:HST/product/hst_13641_05_acs_wfc_total_jcow05_drc.fits to ./mastDownload\\HST\\hst_13641_05_acs_wfc_total_jcow05\\hst_13641_05_acs_wfc_total_jcow05_drc.fits ... [Done]\n",
      "Downloading URL https://mast.stsci.edu/api/v0.1/Download/file?uri=mast:HST/product/hst_13641_08_acs_wfc_total_jcow08_drc.fits to ./mastDownload\\HST\\hst_13641_08_acs_wfc_total_jcow08\\hst_13641_08_acs_wfc_total_jcow08_drc.fits ... [Done]\n",
      "Downloading URL https://mast.stsci.edu/api/v0.1/Download/file?uri=mast:HST/product/hst_9822_2q_acs_wfc_total_j8pu2q_drc.fits to ./mastDownload\\HST\\hst_9822_2q_acs_wfc_total_j8pu2q\\hst_9822_2q_acs_wfc_total_j8pu2q_drc.fits ... [Done]\n",
      "Downloading URL https://mast.stsci.edu/api/v0.1/Download/file?uri=mast:HST/product/hst_9822_2r_acs_wfc_total_j8pu2r_drc.fits to ./mastDownload\\HST\\hst_9822_2r_acs_wfc_total_j8pu2r\\hst_9822_2r_acs_wfc_total_j8pu2r_drc.fits ... [Done]\n",
      "Downloading URL https://mast.stsci.edu/api/v0.1/Download/file?uri=mast:HST/product/hst_9822_2s_acs_wfc_total_j8pu2s_drc.fits to ./mastDownload\\HST\\hst_9822_2s_acs_wfc_total_j8pu2s\\hst_9822_2s_acs_wfc_total_j8pu2s_drc.fits ... [Done]\n",
      "Downloading URL https://mast.stsci.edu/api/v0.1/Download/file?uri=mast:HST/product/hst_9822_2t_acs_wfc_total_j8pu2t_drc.fits to ./mastDownload\\HST\\hst_9822_2t_acs_wfc_total_j8pu2t\\hst_9822_2t_acs_wfc_total_j8pu2t_drc.fits ... [Done]\n",
      "Downloading URL https://mast.stsci.edu/api/v0.1/Download/file?uri=mast:HST/product/hst_9822_34_acs_wfc_total_j8pu34_drc.fits to ./mastDownload\\HST\\hst_9822_34_acs_wfc_total_j8pu34\\hst_9822_34_acs_wfc_total_j8pu34_drc.fits ... [Done]\n",
      "Downloading URL https://mast.stsci.edu/api/v0.1/Download/file?uri=mast:HST/product/hst_9822_39_acs_wfc_total_j8pu39_drc.fits to ./mastDownload\\HST\\hst_9822_39_acs_wfc_total_j8pu39\\hst_9822_39_acs_wfc_total_j8pu39_drc.fits ... [Done]\n",
      "Downloading URL https://mast.stsci.edu/api/v0.1/Download/file?uri=mast:HST/product/hst_9822_3e_acs_wfc_total_j8pu3e_drc.fits to ./mastDownload\\HST\\hst_9822_3e_acs_wfc_total_j8pu3e\\hst_9822_3e_acs_wfc_total_j8pu3e_drc.fits ... [Done]\n",
      "Downloading URL https://mast.stsci.edu/api/v0.1/Download/file?uri=mast:HST/product/hst_9822_56_acs_wfc_total_j8pu56_drc.fits to ./mastDownload\\HST\\hst_9822_56_acs_wfc_total_j8pu56\\hst_9822_56_acs_wfc_total_j8pu56_drc.fits ... [Done]\n",
      "Downloading URL https://mast.stsci.edu/api/v0.1/Download/file?uri=mast:HST/product/hst_9822_57_acs_wfc_total_j8pu57_drc.fits to ./mastDownload\\HST\\hst_9822_57_acs_wfc_total_j8pu57\\hst_9822_57_acs_wfc_total_j8pu57_drc.fits ... [Done]\n",
      "Downloading URL https://mast.stsci.edu/api/v0.1/Download/file?uri=mast:HST/product/hst_9822_5b_acs_wfc_total_j8pu5b_drc.fits to ./mastDownload\\HST\\hst_9822_5b_acs_wfc_total_j8pu5b\\hst_9822_5b_acs_wfc_total_j8pu5b_drc.fits ... [Done]\n"
     ]
    },
    {
     "name": "stdout",
     "output_type": "stream",
     "text": [
      "Downloading URL https://mast.stsci.edu/api/v0.1/Download/file?uri=mast:HST/product/hst_9822_5g_acs_wfc_total_j8pu5g_drc.fits to ./mastDownload\\HST\\hst_9822_5g_acs_wfc_total_j8pu5g\\hst_9822_5g_acs_wfc_total_j8pu5g_drc.fits ... [Done]\n",
      "Downloading URL https://mast.stsci.edu/api/v0.1/Download/file?uri=mast:HST/product/hst_skycell-p1360x19y14_acs_wfc_f814w_all_drc.fits to ./mastDownload\\HST\\hst_skycell-p1360x19y14_acs_wfc_f814w_all\\hst_skycell-p1360x19y14_acs_wfc_f814w_all_drc.fits ... [Done]\n"
     ]
    },
    {
     "name": "stderr",
     "output_type": "stream",
     "text": [
      "WARNING: InputWarning: Coordinate string is being interpreted as an ICRS coordinate provided in degrees. [astroquery.utils.commons]\n",
      "WARNING: NoResultsWarning: Query returned no results. [astroquery.mast.discovery_portal]\n"
     ]
    },
    {
     "name": "stdout",
     "output_type": "stream",
     "text": [
      "The time of execution of above program is : 2520.300078868866\n"
     ]
    }
   ],
   "source": [
    "start = time.time()\n",
    "\n",
    "for x in range(3000,3500):\n",
    "    \n",
    "    ra = str(madcows[1].data['RA'][x])\n",
    "    dec = str(madcows[1].data['DEC'][x])\n",
    "    obs_table = Observations.query_criteria(coordinates= ra + \" \" + dec,radius='0.03 deg',filters=\n",
    "                                                ['F475W','F555W','F606W','F625W','F775W','F435W',\n",
    "                                                'F814W','F850LP'],instrument_name='ACS/WFC')\n",
    "    \n",
    "    #for y in obs_table['obsid']:\n",
    "    if len(obs_table['obsid']) > 0:\n",
    "        y = obs_table['obsid'][0]\n",
    "        data_products = Observations.get_product_list(y)\n",
    "        products = Observations.filter_products(data_products,productType=[\"SCIENCE\"],\n",
    "                                                calib_level=[3,4],extension=\"fits\")\n",
    "\n",
    "        t_or_f = np.zeros(len(products['productFilename']),dtype='str')\n",
    "\n",
    "        for x in range(len(products['productFilename'])):\n",
    "\n",
    "            t_or_f[x] = str('all' in products['productFilename'][x]\n",
    "                              or 'drz' in products['productFilename'][x] \n",
    "                              or 'total' in products['productFilename'][x])\n",
    "\n",
    "        inds_all = np.where(t_or_f == 'T')\n",
    "\n",
    "        if len(inds_all) > 0:\n",
    "\n",
    "            manifest = Observations.download_products(products[inds_all])\n",
    "                        #can write this better and work in arrays \n",
    "\n",
    "            for z in inds_all:\n",
    "\n",
    "                with open('C:/Users/19133/Documents/Research/UMKC/MAST_ACS_8_14.csv', 'a', newline='') as csvfile:\n",
    "                    fieldnames = ['obsids','parent_obsid','MADCOW_id','file']\n",
    "                    writer = csv.DictWriter(csvfile, fieldnames=fieldnames)\n",
    "                    writer.writerow({'obsids':products['obsID'][z],\n",
    "                                     'parent_obsid':y,\n",
    "                                     'MADCOW_id':madcows[1].data['ID'][x],\n",
    "                                     'file':products['productFilename'][z]})\n",
    "        else:\n",
    "\n",
    "            pass\n",
    "    else:\n",
    "        pass\n",
    "\n",
    "end = time.time()\n",
    "print(\"The time of execution of above program is :\",(end-start))"
   ]
  },
  {
   "cell_type": "code",
   "execution_count": 34,
   "metadata": {},
   "outputs": [
    {
     "data": {
      "text/plain": [
       "2520.300078868866"
      ]
     },
     "execution_count": 34,
     "metadata": {},
     "output_type": "execute_result"
    }
   ],
   "source": [
    "end-start"
   ]
  },
  {
   "cell_type": "code",
   "execution_count": 35,
   "metadata": {},
   "outputs": [],
   "source": [
    "ten = 34.10638399124146*10\n",
    "hundred = 5.684397331873575*60\n",
    "fivehun = 2520.300078868866\n",
    "thousand = 67.7765793522199*60"
   ]
  },
  {
   "cell_type": "code",
   "execution_count": 42,
   "metadata": {},
   "outputs": [
    {
     "name": "stderr",
     "output_type": "stream",
     "text": [
      "C:\\Users\\19133\\Anaconda3\\lib\\site-packages\\ipykernel_launcher.py:3: UserWarning: Attempted to set non-positive bottom ylim on a log-scaled axis.\n",
      "Invalid limit will be ignored.\n",
      "  This is separate from the ipykernel package so we can avoid doing imports until\n"
     ]
    },
    {
     "data": {
      "image/png": "[encoded data removed]",
      "text/plain": [
       "<Figure size 432x288 with 1 Axes>"
      ]
     },
     "metadata": {
      "needs_background": "light"
     },
     "output_type": "display_data"
    }
   ],
   "source": [
    "plt.plot([10,100,500,1000],[ten/60,hundred/60,fivehun/60,thousand/60],'bo')\n",
    "plt.loglog()\n",
    "plt.ylim(0,10**2)\n",
    "plt.xlabel('Number of MC2 Sources')\n",
    "plt.ylabel('Time (Minutes)')\n",
    "plt.savefig('time.png')"
   ]
  },
  {
   "cell_type": "code",
   "execution_count": null,
   "metadata": {},
   "outputs": [],
   "source": [
    "#one source has multiple matching obsids \n",
    "#each obsid has multiple products: so we just choose good ones \n",
    "\n",
    "#if productFilename in products has calib_level >= 3 and 'drz' or 'total' in the name, downlaod \n",
    "#save MC2ID, obsid, parent_obsid, filename"
   ]
  },
  {
   "cell_type": "code",
   "execution_count": null,
   "metadata": {},
   "outputs": [],
   "source": [
    "import glob\n",
    "for name in glob.glob('C:/Users/19133/Documents/Research/mastDownload/*/*/*'):\n",
    "    basename = os.path.basename(name)\n",
    "    os.rename(name, \"C:/Users/19133/Documents/Research/mastDownload/\"+basename)"
   ]
  },
  {
   "cell_type": "code",
   "execution_count": null,
   "metadata": {},
   "outputs": [],
   "source": [
    "from astropy.io import ascii\n",
    "data = ascii.read('C:/Users/19133/Documents/MAST_matching_targets_8_14.csv')"
   ]
  }
 ],
 "metadata": {
  "kernelspec": {
   "display_name": "Python 3",
   "language": "python",
   "name": "python3"
  },
  "language_info": {
   "codemirror_mode": {
    "name": "ipython",
    "version": 3
   },
   "file_extension": ".py",
   "mimetype": "text/x-python",
   "name": "python",
   "nbconvert_exporter": "python",
   "pygments_lexer": "ipython3",
   "version": "3.7.6"
  }
 },
 "nbformat": 4,
 "nbformat_minor": 4
}
