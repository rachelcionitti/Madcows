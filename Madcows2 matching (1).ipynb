{
 "cells": [
  {
   "cell_type": "code",
   "execution_count": 1,
   "metadata": {},
   "outputs": [],
   "source": [
    "from astropy.io import fits \n",
    "import matplotlib.pyplot as plt\n",
    "import numpy as np \n",
    "from scipy.optimize import minimize, rosen, rosen_der\n",
    "from scipy import interpolate\n",
    "import scipy\n",
    "import os \n",
    "from scipy.optimize import curve_fit\n",
    "from scipy.integrate import simps\n",
    "import math\n",
    "from astropy.cosmology import WMAP9 as cosmo\n",
    "from astroquery.mast import Observations\n",
    "import csv"
   ]
  },
  {
   "cell_type": "code",
   "execution_count": null,
   "metadata": {},
   "outputs": [],
   "source": [
    "#https://mast.stsci.edu/api/v0/_c_a_o_mfields.html\n",
    "#https://astroquery.readthedocs.io/en/latest/mast/mast.html#id1\n",
    "#https://mast.stsci.edu/portal/Mashup/Clients/Mast/Portal.html\n",
    "#https://outerspace.stsci.edu/display/MASTDOCS/Search+a+List+of+Targets\n",
    "#https://www.stsci.edu/hst/instrumentation/wfc3/performance/throughputs"
   ]
  },
  {
   "cell_type": "code",
   "execution_count": 2,
   "metadata": {},
   "outputs": [],
   "source": [
    "#madcows1 = fits.open(\"C:/Users/19133/Documents/cows_official.fits\")\n",
    "madcows = fits.open(\"C:/Users/19133/Documents/MC2.fits\")"
   ]
  },
  {
   "cell_type": "code",
   "execution_count": 3,
   "metadata": {},
   "outputs": [],
   "source": [
    "with open('C:/Users/19133/Documents/MAST_ACS_07_17.csv', 'w', newline='') as csvfile:\n",
    "    fieldnames = ['obsid','MADCOW_id','file']\n",
    "    writer = csv.DictWriter(csvfile, fieldnames=fieldnames)\n",
    "    writer.writeheader()"
   ]
  },
  {
   "cell_type": "code",
   "execution_count": 4,
   "metadata": {},
   "outputs": [
    {
     "data": {
      "text/plain": [
       "24646"
      ]
     },
     "execution_count": 4,
     "metadata": {},
     "output_type": "execute_result"
    }
   ],
   "source": [
    "len(madcows[1].data['RA'])"
   ]
  },
  {
   "cell_type": "code",
   "execution_count": null,
   "metadata": {
    "scrolled": true
   },
   "outputs": [
    {
     "name": "stdout",
     "output_type": "stream",
     "text": [
      "Downloading URL https://mast.stsci.edu/api/v0.1/Download/file?uri=mast:HST/product/hst_12166_69_acs_wfc_f606w_jbkz69_drc.jpg to ./mastDownload\\HST\\hst_12166_69_acs_wfc_f606w_jbkz69\\hst_12166_69_acs_wfc_f606w_jbkz69_drc.jpg ... [Done]\n",
      "Downloading URL https://mast.stsci.edu/api/v0.1/Download/file?uri=mast:HST/product/hst_12166_69_acs_wfc_f606w_jbkz69cq_drc.jpg to ./mastDownload\\HST\\hst_12166_69_acs_wfc_f606w_jbkz69cq\\hst_12166_69_acs_wfc_f606w_jbkz69cq_drc.jpg ... [Done]\n",
      "Downloading URL https://mast.stsci.edu/api/v0.1/Download/file?uri=mast:HST/product/hst_14096_n1_acs_wfc_f435w_jczgn1_drc.jpg to ./mastDownload\\HST\\hst_14096_n1_acs_wfc_f435w_jczgn1\\hst_14096_n1_acs_wfc_f435w_jczgn1_drc.jpg ... [Done]\n",
      "Downloading URL https://mast.stsci.edu/api/v0.1/Download/file?uri=mast:HST/product/hst_14096_n1_acs_wfc_f814w_jczgn1_drc.jpg to ./mastDownload\\HST\\hst_14096_n1_acs_wfc_f814w_jczgn1\\hst_14096_n1_acs_wfc_f814w_jczgn1_drc.jpg ... [Done]\n",
      "Downloading URL https://mast.stsci.edu/api/v0.1/Download/file?uri=mast:HST/product/hst_14096_n1_acs_wfc_f435w_jczgn1b3_drc.jpg to ./mastDownload\\HST\\hst_14096_n1_acs_wfc_f435w_jczgn1b3\\hst_14096_n1_acs_wfc_f435w_jczgn1b3_drc.jpg ... [Done]\n",
      "Downloading URL https://mast.stsci.edu/api/v0.1/Download/file?uri=mast:HST/product/hst_14096_n3_acs_wfc_f606w_jczgn3_drc.jpg to ./mastDownload\\HST\\hst_14096_n3_acs_wfc_f606w_jczgn3\\hst_14096_n3_acs_wfc_f606w_jczgn3_drc.jpg ..."
     ]
    }
   ],
   "source": [
    "failed = [] \n",
    "for x in range(0,24647):\n",
    "    try: \n",
    "        obs_table = Observations.query_object(str(madcows[1].data['RA'][x]) + \" \" + str(madcows[1].data['DEC'][x]),radius=\"0.03 deg\")\n",
    "        inds = np.where(obs_table['instrument_name'] == \"ACS/WFC\")[0]\n",
    "        if len(inds) > 0:\n",
    "            for y in obs_table[inds]['obsid']:\n",
    "                data_products = Observations.get_product_list(y)\n",
    "                products = Observations.filter_products(data_products,productType=[\"PREVIEW\"])\n",
    "    \n",
    "                manifest = Observations.download_products(products[0])\n",
    "                    \n",
    "                manifests = manifest[0][0]\n",
    "                filename = manifests.split(\"\\\\\")[-1]\n",
    "                \n",
    "                with open('C:/Users/19133/Documents/MAST_ACS_07_17.csv', 'a', newline='') as csvfile:\n",
    "                    fieldnames = ['obsid','MADCOW_id','file']\n",
    "                    writer = csv.DictWriter(csvfile, fieldnames=fieldnames)\n",
    "                    writer.writerow({'obsid':y,'MADCOW_id':x,'file':filename})\n",
    "        else:\n",
    "            True \n",
    "    except: \n",
    "        failed.append(x)"
   ]
  },
  {
   "cell_type": "code",
   "execution_count": null,
   "metadata": {},
   "outputs": [],
   "source": [
    "import glob\n",
    "for name in glob.glob('C:/Users/19133/Documents/Research/mastDownload/*/*/*'):\n",
    "    basename = os.path.basename(name)\n",
    "    os.rename(name, \"C:/Users/19133/Documents/Research/mastDownload/\"+basename)"
   ]
  },
  {
   "cell_type": "code",
   "execution_count": null,
   "metadata": {},
   "outputs": [],
   "source": [
    "from astropy.io import ascii\n",
    "data = ascii.read('C:/Users/19133/Documents/MAST_matching_targets_07_08.csv')"
   ]
  },
  {
   "cell_type": "code",
   "execution_count": null,
   "metadata": {},
   "outputs": [],
   "source": [
    "pretties = np.array(['hlsp_clash_hst_wfc3ir_macs1115_f105w_v1_drz.jpg','hlsp_clash_hst_wfc3ir-30mas_a209_f105w_v1_drz.jpg','hst_11696_da_wfc3_ir_f140w_ib8cda_drz.jpg','hst_12051_01_wfc3_ir_f125w_01_drz.jpg','hst_12064_0p_wfc3_ir_f125w_ibew0p_drz.jpg','hst_12166_8q_wfc3_ir_f110w_ibkz8q_drz.jpg','hst_12453_a4_wfc3_ir_f160w_drz.jpg','hst_12488_1v_wfc3_ir_f110w_drz.jpg','hst_12488_51_wfc3_ir_f110w_ibs451_drz.jpg','hst_12578_09_wfc3_ir_f160w_ibra09_drz.jpg','hst_13003_01_wfc3_ir_f125w_ic2i01_drz.jpg','hst_13003_20_wfc3_ir_f125w_drz.jpg','hst_13023_47_wfc3_ir_f140w_drz.jpg','hst_13046_j1_wfc3_ir_f125w_drz.jpg','hst_13177_04_wfc3_ir_f125w_ic6i04_drz.jpg','hst_13177_05_wfc3_ir_f098m_drz.jpg','hst_13671_1h_wfc3_ir_f110w_icoz1h_drz.jpg','hst_13677_49_wfc3_ir_f140w_drz.jpg','hst_14096_gb_wfc3_ir_f105w_iczggb_drz.jpg','hst_14096_jl_wfc3_ir_f105w_iczgjl_drz.jpg','hst_14096_n2_wfc3_ir_f125w_iczgn2_drz.jpg','hst_14098_1s_wfc3_ir_f110w_drz.jpg','hst_15132_1k_wfc3_ir_f110w_idkl1k_drz.jpg','hst_15242_07_wfc3_ir_f110w_idmh07jk_drz.jpg','hst_15253_08_wfc3_ir_f160w_idki08_drz.jpg','hst_15842_1a_wfc3_ir_f110w_ie4y1aen_drz.jpg','hst_15867_10_wfc3_ir_f140w_ie5010kr_drz.jpg','hst_15867_57_wfc3_ir_f140w_ie5057fc_drz.jpg','hst_15867_77_wfc3_ir_f140w_ie5077_drz.jpg','hst_15867_79_wfc3_ir_f140w_ie5079_drz.jpg','hst_15867_82_wfc3_ir_f140w_ie5082_drz.jpg','hst_15867_85_wfc3_ir_f140w_ie5085_drz.jpg','hst_16668_11_wfc3_ir_f110w_ieov11g7_drz.jpg','hst_16729_0d_wfc3_ir_f110w_iepl0dnf_drz.jpg','hst_16729_0e_wfc3_ir_f110w_iepl0e_drz.jpg','hst_16773_34_wfc3_ir_f140w_ienh34_drz.jpg','hst_16773_b4_wfc3_ir_f140w_ienhb4_drz.jpg',\n",
    "                     'hst_16773_a7_wfc3_ir_f140w_ienha7i8_drz.jpg'])\n",
    "for x in range(len(data['file'])):\n",
    "    if data['file'][x][0] == 'i':\n",
    "        pretties = np.append(pretties,data['file'][x])"
   ]
  },
  {
   "cell_type": "code",
   "execution_count": null,
   "metadata": {},
   "outputs": [],
   "source": [
    "pretty_obsids = []\n",
    "for x in pretties:\n",
    "    ind = np.where(data['file'] == x)[0]\n",
    "    for y in ind:\n",
    "        pretty_obsids.append(data['obsid'][y])"
   ]
  },
  {
   "cell_type": "code",
   "execution_count": null,
   "metadata": {},
   "outputs": [],
   "source": [
    "for y in pretty_obsids:\n",
    "    Observations.download_products(str(y),productType=[\"PREVIEW\"])"
   ]
  },
  {
   "cell_type": "code",
   "execution_count": null,
   "metadata": {},
   "outputs": [],
   "source": [
    "#used this in online interface\n",
    "import csv\n",
    "\n",
    "with open('C:/Users/19133/Documents/madcows_targets_6_29.csv', 'w', newline='') as csvfile:\n",
    "    fieldnames = ['RA', 'DEC']\n",
    "    writer = csv.DictWriter(csvfile, fieldnames=fieldnames)\n",
    "\n",
    "    writer.writeheader()\n",
    "    for x in range(len(madcows[1].data['RA'])):\n",
    "        writer.writerow({'RA': madcows[1].data['RA'][x], 'DEC': madcows[1].data['DEC'][x]})"
   ]
  },
  {
   "cell_type": "code",
   "execution_count": null,
   "metadata": {},
   "outputs": [],
   "source": [
    "from astropy.table import Table\n",
    "matches = Table.read(\"MAST_matching_targets.csv\")\n",
    "obsids = matches['obsid']\n",
    "\n",
    "for x in [0,1,2]:\n",
    "    data_products = Observations.get_product_list(str(obsids[x]))\n",
    "    #print(data_products['dataURI'])\n",
    "    manifest = Observations.download_products(data_products, productType=\"SCIENCE\")"
   ]
  }
 ],
 "metadata": {
  "kernelspec": {
   "display_name": "Python 3",
   "language": "python",
   "name": "python3"
  },
  "language_info": {
   "codemirror_mode": {
    "name": "ipython",
    "version": 3
   },
   "file_extension": ".py",
   "mimetype": "text/x-python",
   "name": "python",
   "nbconvert_exporter": "python",
   "pygments_lexer": "ipython3",
   "version": "3.7.6"
  }
 },
 "nbformat": 4,
 "nbformat_minor": 4
}
